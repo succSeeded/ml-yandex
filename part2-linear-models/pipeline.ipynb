{
 "cells": [
  {
   "cell_type": "code",
   "execution_count": 1,
   "id": "02c5e47f-8281-4722-8655-8f945e6eb1cd",
   "metadata": {},
   "outputs": [],
   "source": [
    "import numpy as np\n",
    "import pandas as pd\n",
    "\n",
    "from scipy.stats import norm\n",
    "from sklearn.base import TransformerMixin\n",
    "from sklearn.linear_model import Ridge\n",
    "from sklearn.pipeline import Pipeline\n",
    "from sklearn.preprocessing import StandardScaler, OneHotEncoder\n",
    "\n",
    "\n",
    "class BaseDataPreprocessor(TransformerMixin):\n",
    "    def __init__(self, num_features=\"auto\"):\n",
    "        \"\"\"\n",
    "        :param needed_columns: if not None select these columns from the dataframe\n",
    "        \"\"\"\n",
    "        self.scaler = StandardScaler()\n",
    "        self.needed_columns_ = num_features\n",
    "\n",
    "    def fit(self, data, *args):\n",
    "        \"\"\"\n",
    "        Prepares the class for future transformations\n",
    "        :param data: pd.DataFrame with all available columns\n",
    "        :return: self\n",
    "        \"\"\"\n",
    "        if self.needed_columns_ == \"auto\":\n",
    "            self.needed_columns_ = [\n",
    "                key for key in data.keys() if data[key].dtype in (\"int64\", \"float64\")\n",
    "            ]\n",
    "        if self.needed_columns_ is not None:\n",
    "            data = data[self.needed_columns_]\n",
    "        self.scaler.fit(data)\n",
    "        return self\n",
    "\n",
    "    def transform(self, data: pd.DataFrame) -> np.array:\n",
    "        \"\"\"\n",
    "        Transforms features so that they can be fed into the regressors\n",
    "        :param data: pd.DataFrame with all available columns\n",
    "        :return: np.array with preprocessed features\n",
    "        \"\"\"\n",
    "        if not self.needed_columns_ is None:\n",
    "            data = data[self.needed_columns_]\n",
    "        return self.scaler.transform(data)\n",
    "\n",
    "\n",
    "class OneHotPreprocessor(BaseDataPreprocessor):\n",
    "    def __init__(self, cat_features: list[str] = None, **kwargs):\n",
    "        super(OneHotPreprocessor, self).__init__(**kwargs)\n",
    "        self.cat_features_ = [] if cat_features is None else cat_features\n",
    "        self.cat_encoder_ = OneHotEncoder(handle_unknown=\"ignore\", sparse_output=False)\n",
    "\n",
    "    def fit(self, data, *args):\n",
    "        self.cat_encoder_.fit(data[self.cat_features_])\n",
    "        super(OneHotPreprocessor, self).fit(data, *args)\n",
    "        return self\n",
    "\n",
    "    def transform(self, data):\n",
    "        cat_data = self.cat_encoder_.transform(data[self.cat_features_])\n",
    "        num_data = super(OneHotPreprocessor, self).transform(data)\n",
    "        print(cat_data.shape, num_data.shape)\n",
    "        return np.hstack((cat_data, num_data))\n",
    "\n",
    "\n",
    "def make_ultimate_pipeline():\n",
    "    cat_columns = [\"Overall_Qual\", \"Garage_Qual\", \"Sale_Condition\", \"MS_Zoning\"]\n",
    "\n",
    "    pipe = Pipeline(\n",
    "        steps=[\n",
    "            (\n",
    "                \"Feature preprocessing\",\n",
    "                OneHotPreprocessor(\n",
    "                    cat_features=cat_columns,\n",
    "                    num_features=\"auto\",\n",
    "                ),\n",
    "            ),\n",
    "            (\"Estimator\", Ridge()),\n",
    "        ]\n",
    "    )\n",
    "    return pipe"
   ]
  },
  {
   "cell_type": "code",
   "execution_count": 2,
   "id": "4215a817-a497-4ad8-b3ad-6c4047995244",
   "metadata": {},
   "outputs": [
    {
     "name": "stdout",
     "output_type": "stream",
     "text": [
      "(2344, 29) (2344, 23)\n",
      "(586, 29) (586, 23)\n"
     ]
    },
    {
     "data": {
      "text/plain": [
       "0.14507118037476052"
      ]
     },
     "execution_count": 2,
     "metadata": {},
     "output_type": "execute_result"
    }
   ],
   "source": [
    "import openml\n",
    "from sklearn.model_selection import train_test_split\n",
    "from sklearn.metrics import root_mean_squared_log_error\n",
    "\n",
    "seed = 42\n",
    "\n",
    "dataset = openml.datasets.get_dataset(41211)\n",
    "data, y, _, _ = dataset.get_data(dataset_format=\"dataframe\")\n",
    "\n",
    "target_column = \"Sale_Price\"\n",
    "np.random.seed(seed)\n",
    "\n",
    "test_size = 0.2\n",
    "data_train, data_test, Y_train, Y_test = train_test_split(\n",
    "    data[data.columns.drop(\"Sale_Price\")],\n",
    "    np.array(data[\"Sale_Price\"]),\n",
    "    test_size=test_size,\n",
    "    random_state=seed,\n",
    ")\n",
    "\n",
    "pipe = make_ultimate_pipeline()\n",
    "pipe.fit(data_train, Y_train)\n",
    "root_mean_squared_log_error(Y_test, pipe.predict(data_test))"
   ]
  },
  {
   "cell_type": "code",
   "execution_count": null,
   "id": "a54480e9-aa27-4e07-b192-a0d0c3ecff07",
   "metadata": {},
   "outputs": [],
   "source": []
  }
 ],
 "metadata": {
  "kernelspec": {
   "display_name": "Python 3 (ipykernel)",
   "language": "python",
   "name": "python3"
  },
  "language_info": {
   "codemirror_mode": {
    "name": "ipython",
    "version": 3
   },
   "file_extension": ".py",
   "mimetype": "text/x-python",
   "name": "python",
   "nbconvert_exporter": "python",
   "pygments_lexer": "ipython3",
   "version": "3.11.13"
  }
 },
 "nbformat": 4,
 "nbformat_minor": 5
}
