{
 "cells": [
  {
   "cell_type": "code",
   "execution_count": 1,
   "id": "810960ec-4cbc-4e20-bc7c-aec78859a695",
   "metadata": {},
   "outputs": [],
   "source": [
    "%load_ext jupyter_black\n",
    "\n",
    "import random\n",
    "\n",
    "import numpy as np\n",
    "import scipy as sp\n",
    "import matplotlib.pyplot as plt\n",
    "\n",
    "from tqdm import tqdm"
   ]
  },
  {
   "cell_type": "code",
   "execution_count": 2,
   "id": "afe56e92-8245-424a-95bd-5d65909398e1",
   "metadata": {},
   "outputs": [],
   "source": [
    "WIN_PTS = 25\n",
    "LOSE_PTS = 25\n",
    "PLAYERS_PER_TEAM = 5\n",
    "RANDOM_SEED = 42\n",
    "N_MATCHES = 1_200"
   ]
  },
  {
   "cell_type": "code",
   "execution_count": 3,
   "id": "ec1c04c3-b87e-41ce-aa41-c6da31f05fa8",
   "metadata": {},
   "outputs": [],
   "source": [
    "random.seed(RANDOM_SEED)\n",
    "np.random.seed(seed=RANDOM_SEED)"
   ]
  },
  {
   "cell_type": "code",
   "execution_count": 4,
   "id": "17957d62-621d-4637-ab17-14225c529a6c",
   "metadata": {},
   "outputs": [],
   "source": [
    "class Gamer:\n",
    "    def __init__(\n",
    "        self,\n",
    "        skill: int,\n",
    "        rating: int,\n",
    "        wins: int = None,\n",
    "        games: int = None,\n",
    "        uid: int = None,\n",
    "    ):\n",
    "        self.skill_ = skill\n",
    "        self.rating_ = rating\n",
    "        self.wins_ = 0 if wins is None else wins\n",
    "        self.games_ = 0 if games is None else games\n",
    "        self.uid_ = 0 if uid is None else uid\n",
    "\n",
    "    def get_skill(self) -> int:\n",
    "        return self.skill_\n",
    "\n",
    "    def get_rating(self) -> int:\n",
    "        return self.rating_\n",
    "\n",
    "    def get_uid(self) -> int:\n",
    "        return self.uid_\n",
    "\n",
    "    def win(self):\n",
    "        self.rating_ += WIN_PTS\n",
    "        self.wins_ += 1\n",
    "        self.games_ += 1\n",
    "\n",
    "    def lose(self):\n",
    "        if self.rating_ > LOSE_PTS:\n",
    "            self.rating_ -= LOSE_PTS\n",
    "        self.games_ += 1\n",
    "\n",
    "    def get_winrate(self) -> float:\n",
    "        return self.wins_ / self.games_"
   ]
  },
  {
   "cell_type": "code",
   "execution_count": 5,
   "id": "b462ee53-8b09-463a-891e-96429180b956",
   "metadata": {},
   "outputs": [],
   "source": [
    "class Matchmaker:\n",
    "    def __init__(self, clutch_chance: float, random_seed: int = None):\n",
    "        self.clutch_chance_ = clutch_chance\n",
    "        if random_seed is not None:\n",
    "            random.seed(random_seed)\n",
    "            np.random.seed(seed=random_seed)\n",
    "\n",
    "    def __call__(self, match: list[Gamer]):\n",
    "        team1 = random.sample(match, PLAYERS_PER_TEAM)\n",
    "        team2 = [player for player in match if player not in team1]\n",
    "        teams = [team1, team2]\n",
    "\n",
    "        skill_sums = [sum([player.get_skill() for player in team]) for team in teams]\n",
    "        if skill_sums[0] > skill_sums[1]:\n",
    "            winning_team = 0\n",
    "        elif skill_sums[1] > skill_sums[0]:\n",
    "            winning_team = 1\n",
    "        else:\n",
    "            winning_team = np.random.randint(0, 1)\n",
    "\n",
    "        is_clutch = np.random.choice(\n",
    "            [0, 1], size=None, p=[1.0 - self.clutch_chance_, self.clutch_chance_]\n",
    "        )\n",
    "        if is_clutch == 1:\n",
    "            winning_team = 1 - winning_team\n",
    "\n",
    "        for player in teams[winning_team]:\n",
    "            player.win()\n",
    "\n",
    "        for player in teams[1 - winning_team]:\n",
    "            player.lose()"
   ]
  },
  {
   "cell_type": "code",
   "execution_count": 6,
   "id": "a967a585-5753-44d7-a58a-4defd7b99a99",
   "metadata": {},
   "outputs": [],
   "source": [
    "class Community:\n",
    "    def __init__(self, n_gamers: int):\n",
    "        if n_gamers % (PLAYERS_PER_TEAM * 2) != 0:\n",
    "            raise ValueError(\n",
    "                f\"Number of gamers is not divisible by {PLAYERS_PER_TEAM*2}!\"\n",
    "            )\n",
    "\n",
    "        self.match_size_ = PLAYERS_PER_TEAM * 2\n",
    "        self.n_gamers_ = n_gamers\n",
    "        skill_distr = sp.stats.betabinom(1000, 4.243, 4.217)\n",
    "        self.gamers = [\n",
    "            Gamer(skill=gamer_skill, rating=500, uid=uid)\n",
    "            for uid, gamer_skill in enumerate(skill_distr.rvs(size=n_gamers))\n",
    "        ]\n",
    "        random.shuffle(self.gamers)\n",
    "        self.matchmaker = Matchmaker(1e-2)\n",
    "\n",
    "    def rank_gamers(self):\n",
    "        self.gamers.sort(key=lambda x: x.get_rating())\n",
    "\n",
    "    def get_gamers(self):\n",
    "        return self.gamers\n",
    "\n",
    "    def match(self, steps: int):\n",
    "        for i in tqdm(range(steps)):\n",
    "            self.rank_gamers()\n",
    "            for match_num in range(self.n_gamers_ // self.match_size_):\n",
    "                self.matchmaker(\n",
    "                    self.gamers[\n",
    "                        self.match_size_\n",
    "                        * match_num : self.match_size_\n",
    "                        * (match_num + 1)\n",
    "                    ]\n",
    "                )"
   ]
  },
  {
   "cell_type": "code",
   "execution_count": 7,
   "id": "92138e44-d67c-4895-b2bf-5709f46c2849",
   "metadata": {},
   "outputs": [
    {
     "name": "stderr",
     "output_type": "stream",
     "text": [
      "100%|███████████████████████████████████████████████████████████████████████████████████████████████████████████████████████████████████████| 1200/1200 [01:34<00:00, 12.64it/s]\n"
     ]
    },
    {
     "data": {
      "image/png": "[encoded data removed]",
      "text/plain": [
       "<Figure size 640x480 with 1 Axes>"
      ]
     },
     "metadata": {},
     "output_type": "display_data"
    }
   ],
   "source": [
    "cmty = Community(25_000)\n",
    "\n",
    "cmty.match(N_MATCHES)\n",
    "\n",
    "gamers = cmty.get_gamers()\n",
    "ratings = np.array([player.get_rating() for player in gamers])\n",
    "\n",
    "ax = plt.axes()\n",
    "\n",
    "ax.hist(ratings, rwidth=0.9, bins=30, label=f\"n_matches = {N_MATCHES}\")\n",
    "ax.set_xlabel(\"Player rating, pts\")\n",
    "ax.set_ylabel(\"Player count\")\n",
    "plt.legend()\n",
    "plt.show()"
   ]
  },
  {
   "cell_type": "code",
   "execution_count": 8,
   "id": "39726b24-bc9c-4d4c-a969-95522b658673",
   "metadata": {},
   "outputs": [
    {
     "name": "stdout",
     "output_type": "stream",
     "text": [
      "Top-10 rating values: [ 3200  3250  3250  3250  3350  3500  4550  6950 12100 12700]\n"
     ]
    }
   ],
   "source": [
    "print(f\"Top-10 rating values: {ratings[-10:]}\")"
   ]
  },
  {
   "cell_type": "code",
   "execution_count": 9,
   "id": "071717fe-ca78-4a68-bfa5-0abc5e1cc8ef",
   "metadata": {},
   "outputs": [
    {
     "name": "stdout",
     "output_type": "stream",
     "text": [
      "Rating mode: ModeResult(mode=np.int64(600), count=np.int64(574))\n"
     ]
    }
   ],
   "source": [
    "print(f\"Rating mode: {sp.stats.mode(ratings)}\")"
   ]
  },
  {
   "cell_type": "code",
   "execution_count": 10,
   "id": "9fc9b214-0f52-4871-8e1e-11b37082e93b",
   "metadata": {},
   "outputs": [
    {
     "data": {
      "image/png": "[encoded data removed]",
      "text/plain": [
       "<Figure size 640x480 with 1 Axes>"
      ]
     },
     "metadata": {},
     "output_type": "display_data"
    }
   ],
   "source": [
    "gamers = cmty.get_gamers()\n",
    "skill_ratings = np.array([player.get_skill() for player in gamers])\n",
    "\n",
    "ax = plt.axes()\n",
    "\n",
    "ax.hist(skill_ratings, rwidth=0.9, bins=30)\n",
    "ax.set_xlabel(\"Player skill, units\")\n",
    "ax.set_ylabel(\"Player count\")\n",
    "plt.show()"
   ]
  },
  {
   "cell_type": "code",
   "execution_count": 11,
   "id": "95895161-4ab4-4b57-8b62-0bf25015eaaa",
   "metadata": {},
   "outputs": [
    {
     "data": {
      "image/png": "[encoded data removed]",
      "text/plain": [
       "<Figure size 640x480 with 1 Axes>"
      ]
     },
     "metadata": {},
     "output_type": "display_data"
    }
   ],
   "source": [
    "gamers = cmty.get_gamers()\n",
    "winrates = np.array([player.get_winrate() for player in gamers])\n",
    "\n",
    "ax = plt.axes()\n",
    "\n",
    "ax.hist(winrates, rwidth=0.9, bins=30)\n",
    "ax.set_xlabel(\"Player winrate\")\n",
    "ax.set_ylabel(\"Player count\")\n",
    "plt.show()"
   ]
  },
  {
   "cell_type": "code",
   "execution_count": 12,
   "id": "57c2b541-455d-4d13-bba1-9774d8a56910",
   "metadata": {},
   "outputs": [
    {
     "data": {
      "text/plain": [
       "9093"
      ]
     },
     "execution_count": 12,
     "metadata": {},
     "output_type": "execute_result"
    }
   ],
   "source": [
    "sum([1 for wr in winrates if wr < 0.5])"
   ]
  },
  {
   "cell_type": "code",
   "execution_count": 13,
   "id": "47f12e6e-e193-4e41-804f-1169609598fb",
   "metadata": {},
   "outputs": [
    {
     "data": {
      "text/plain": [
       "15048"
      ]
     },
     "execution_count": 13,
     "metadata": {},
     "output_type": "execute_result"
    }
   ],
   "source": [
    "sum([1 for wr in winrates if wr > 0.5])"
   ]
  },
  {
   "cell_type": "code",
   "execution_count": 14,
   "id": "382ce4ae-7c06-4694-9264-85533870edc1",
   "metadata": {},
   "outputs": [
    {
     "data": {
      "text/plain": [
       "[(np.float64(344.0), 0, 500),\n",
       " (np.float64(515.0), 500, 1000),\n",
       " (np.float64(628.0), 1000, 1500),\n",
       " (np.float64(724.0), 1500, 2000),\n",
       " (np.float64(801.0), 2000, 2500),\n",
       " (np.float64(875.0), 2500, 3000),\n",
       " (np.float64(922.5), 3000, 3500),\n",
       " (np.float64(949.0), 3500, 4000)]"
      ]
     },
     "execution_count": 14,
     "metadata": {},
     "output_type": "execute_result"
    }
   ],
   "source": [
    "[\n",
    "    (\n",
    "        sp.ndimage.median(\n",
    "            [\n",
    "                player.get_skill()\n",
    "                for player in gamers\n",
    "                if player.get_rating() >= i * 500\n",
    "                and player.get_rating() < (i + 1) * 500\n",
    "            ]\n",
    "        ),\n",
    "        i * 500,\n",
    "        (i + 1) * 500,\n",
    "    )\n",
    "    for i in range(8)\n",
    "]"
   ]
  },
  {
   "cell_type": "code",
   "execution_count": null,
   "id": "5ca23779-f59a-4c17-a441-970109503b8d",
   "metadata": {},
   "outputs": [],
   "source": []
  }
 ],
 "metadata": {
  "kernelspec": {
   "display_name": "Python 3 (ipykernel)",
   "language": "python",
   "name": "python3"
  },
  "language_info": {
   "codemirror_mode": {
    "name": "ipython",
    "version": 3
   },
   "file_extension": ".py",
   "mimetype": "text/x-python",
   "name": "python",
   "nbconvert_exporter": "python",
   "pygments_lexer": "ipython3",
   "version": "3.11.13"
  }
 },
 "nbformat": 4,
 "nbformat_minor": 5
}
